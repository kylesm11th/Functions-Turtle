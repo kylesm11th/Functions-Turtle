{
 "cells": [
  {
   "cell_type": "markdown",
   "id": "dominican-circular",
   "metadata": {},
   "source": [
    "# Project 1 - Functions"
   ]
  },
  {
   "cell_type": "markdown",
   "id": "cubic-attention",
   "metadata": {},
   "source": [
    "https://docs.python.org/3/library/turtle.html"
   ]
  },
  {
   "cell_type": "code",
   "execution_count": 1,
   "id": "employed-institution",
   "metadata": {},
   "outputs": [],
   "source": [
    "# import the module -> turtle\n",
    "\n",
    "import turtle"
   ]
  },
  {
   "cell_type": "code",
   "execution_count": 2,
   "id": "spanish-flavor",
   "metadata": {},
   "outputs": [],
   "source": [
    "t = turtle.Turtle()"
   ]
  },
  {
   "cell_type": "code",
   "execution_count": 4,
   "id": "fatty-wayne",
   "metadata": {},
   "outputs": [],
   "source": [
    "t.fd(100)"
   ]
  },
  {
   "cell_type": "code",
   "execution_count": 5,
   "id": "natural-spirit",
   "metadata": {},
   "outputs": [],
   "source": [
    "t.lt(90)"
   ]
  },
  {
   "cell_type": "code",
   "execution_count": 6,
   "id": "assured-bowling",
   "metadata": {},
   "outputs": [],
   "source": [
    "t.fd(300)"
   ]
  },
  {
   "cell_type": "code",
   "execution_count": 7,
   "id": "civil-score",
   "metadata": {},
   "outputs": [],
   "source": [
    "t.lt(90)"
   ]
  },
  {
   "cell_type": "code",
   "execution_count": 8,
   "id": "dressed-smile",
   "metadata": {},
   "outputs": [],
   "source": [
    "t.fd(100)"
   ]
  },
  {
   "cell_type": "code",
   "execution_count": 9,
   "id": "focused-soldier",
   "metadata": {},
   "outputs": [],
   "source": [
    "t.lt(90)"
   ]
  },
  {
   "cell_type": "code",
   "execution_count": 10,
   "id": "authentic-wrong",
   "metadata": {},
   "outputs": [],
   "source": [
    "t.fd(300)"
   ]
  },
  {
   "cell_type": "markdown",
   "id": "compact-desert",
   "metadata": {},
   "source": [
    "Move functions:\n",
    "* fd(px) -> forward\n",
    "* bk(px) -> backward\n",
    "* lt(angle) -> turns left\n",
    "* rt(angles) -> turns right"
   ]
  },
  {
   "cell_type": "code",
   "execution_count": 3,
   "id": "surrounded-british",
   "metadata": {},
   "outputs": [],
   "source": [
    "# clear screen\n",
    "t.clear()"
   ]
  },
  {
   "cell_type": "code",
   "execution_count": 4,
   "id": "hollywood-berkeley",
   "metadata": {},
   "outputs": [],
   "source": [
    "turtle.resetscreen()"
   ]
  },
  {
   "cell_type": "code",
   "execution_count": 13,
   "id": "metropolitan-houston",
   "metadata": {},
   "outputs": [],
   "source": [
    "# We want to create a squre\n",
    "\n",
    "# Move 100 pixel forward\n",
    "# Turn left 90 deg\n",
    "\n",
    "# Move 100 pixel forward\n",
    "# Turn left 90 deg\n",
    "\n",
    "# Move 100 pixel forward\n",
    "# Turn left 90 deg\n",
    "\n",
    "# Move 100 pixel forward\n",
    "# Turn left 90 deg\n",
    "\n",
    "t.fd(100)\n",
    "t.lt(90)\n",
    "\n",
    "t.fd(100)\n",
    "t.lt(90)\n",
    "\n",
    "t.fd(100)\n",
    "t.lt(90)\n",
    "\n",
    "t.fd(100)\n",
    "t.lt(90)"
   ]
  },
  {
   "cell_type": "code",
   "execution_count": 14,
   "id": "alive-azerbaijan",
   "metadata": {},
   "outputs": [],
   "source": [
    "turtle.resetscreen()"
   ]
  },
  {
   "cell_type": "code",
   "execution_count": 15,
   "id": "jewish-conservative",
   "metadata": {},
   "outputs": [],
   "source": [
    "\n",
    "# with loop\n",
    "\n",
    "for i in range(4):\n",
    "    t.fd(100)\n",
    "    t.lt(90)\n",
    "    "
   ]
  },
  {
   "cell_type": "markdown",
   "id": "invalid-quantum",
   "metadata": {},
   "source": [
    "**Example 1:**\n",
    "\n",
    "Create a square with a function -> **square**\n",
    "\n",
    "Parameters: turtle object, d in pixels"
   ]
  },
  {
   "cell_type": "code",
   "execution_count": 5,
   "id": "editorial-hawaii",
   "metadata": {},
   "outputs": [],
   "source": [
    "# square\n",
    "\n",
    "def square(t, d, is_screen_reset):\n",
    "    \"\"\"\n",
    "    It draws square with turtle.\n",
    "    Parameters: turtle t, int d, bool is_screen_reset\n",
    "    Returns: None\n",
    "    \"\"\"\n",
    "    \n",
    "    # reset screen\n",
    "    if is_screen_reset == True:\n",
    "        reset()\n",
    "    \n",
    "    # draw a square\n",
    "    for i in range(4):\n",
    "        t.fd(d)\n",
    "        t.lt(90)\n"
   ]
  },
  {
   "cell_type": "code",
   "execution_count": 6,
   "id": "controlling-advertiser",
   "metadata": {},
   "outputs": [],
   "source": [
    "# reset\n",
    "\n",
    "def reset():\n",
    "    turtle.resetscreen()\n",
    "    "
   ]
  },
  {
   "cell_type": "code",
   "execution_count": 7,
   "id": "automotive-dallas",
   "metadata": {},
   "outputs": [],
   "source": [
    "square(t, 200, True)"
   ]
  },
  {
   "cell_type": "code",
   "execution_count": 8,
   "id": "registered-cursor",
   "metadata": {},
   "outputs": [],
   "source": [
    "square(t, 300, True)"
   ]
  },
  {
   "cell_type": "code",
   "execution_count": 9,
   "id": "herbal-final",
   "metadata": {},
   "outputs": [],
   "source": [
    "square(t, 100, False)"
   ]
  },
  {
   "cell_type": "code",
   "execution_count": 10,
   "id": "sharing-philosophy",
   "metadata": {},
   "outputs": [],
   "source": [
    "# 20 - 40 - 60 80 - ... - 200\n",
    "\n",
    "reset()\n",
    "\n",
    "for i in range(1, 11):\n",
    "    square(t, i * 20, False)\n"
   ]
  },
  {
   "cell_type": "markdown",
   "id": "super-china",
   "metadata": {},
   "source": [
    "**Example 2:**\n",
    "\n",
    "Draw a polygon."
   ]
  },
  {
   "cell_type": "code",
   "execution_count": 11,
   "id": "seven-limit",
   "metadata": {},
   "outputs": [],
   "source": [
    "# polygon\n",
    "\n",
    "def polygon(t, d, n, is_screen_reset):\n",
    "    \"\"\"\n",
    "    Draws a polygon.\n",
    "    Parameters: turtle t, int d (pixels), int n (number of sides), \n",
    "        bool is_screen_reset\n",
    "    Returns: None\n",
    "    \"\"\"\n",
    "    \n",
    "    # resetting\n",
    "    if is_screen_reset:\n",
    "        reset()\n",
    "    \n",
    "    # angle\n",
    "    angle = 360 / n\n",
    "    \n",
    "     # polygon\n",
    "    for i in range(n):\n",
    "        t.fd(d)\n",
    "        t.lt(angle)\n"
   ]
  },
  {
   "cell_type": "code",
   "execution_count": 12,
   "id": "stuffed-drinking",
   "metadata": {},
   "outputs": [],
   "source": [
    "polygon(t, 100, 6, True)"
   ]
  },
  {
   "cell_type": "markdown",
   "id": "potential-affect",
   "metadata": {},
   "source": [
    "**Named Arguments:**\n",
    "\n",
    "When you call a function and passing parameters:\n",
    "\n",
    "`function_name(parameter_name = parameter_value)`"
   ]
  },
  {
   "cell_type": "code",
   "execution_count": 13,
   "id": "conservative-suicide",
   "metadata": {},
   "outputs": [],
   "source": [
    "polygon(t=t, d=200, n=8, is_screen_reset=False)"
   ]
  },
  {
   "cell_type": "code",
   "execution_count": 14,
   "id": "allied-windsor",
   "metadata": {},
   "outputs": [],
   "source": [
    "square(t, d=250, is_screen_reset=True)"
   ]
  },
  {
   "cell_type": "markdown",
   "id": "younger-onion",
   "metadata": {},
   "source": [
    "**Example 3:**\n",
    "\n",
    "Draw a Circle ->\n",
    "\n",
    "* t\n",
    "* r"
   ]
  },
  {
   "cell_type": "code",
   "execution_count": 17,
   "id": "fatty-arrangement",
   "metadata": {},
   "outputs": [],
   "source": [
    "import math\n",
    "\n",
    "def circle(t, r, is_screen_reset):\n",
    "    \"\"\"\n",
    "    Draws a circle.\n",
    "    Parameters: turtle t, int r, bool is_screen_reset\n",
    "    Returns: None (void)\n",
    "    \"\"\"\n",
    "    \n",
    "    # perimeter -> total distance to draw\n",
    "    perimeter = 2 * math.pi * r\n",
    "    \n",
    "    # steps -> 360 / angles \n",
    "    # angle of an arc\n",
    "    steps = int(360 / 10)\n",
    "    \n",
    "    # distance -> distance to draw in each arc\n",
    "    distance = perimeter / steps\n",
    "    \n",
    "    # call polygon\n",
    "    polygon(t, d=distance, n=steps, is_screen_reset=is_screen_reset)\n",
    "    "
   ]
  },
  {
   "cell_type": "code",
   "execution_count": 18,
   "id": "organizational-procedure",
   "metadata": {},
   "outputs": [],
   "source": [
    "circle(t, 200, True)"
   ]
  },
  {
   "cell_type": "code",
   "execution_count": 21,
   "id": "careful-twins",
   "metadata": {},
   "outputs": [],
   "source": [
    "reset()\n",
    "\n",
    "for i in range(1, 4):\n",
    "    \n",
    "    circle(t, i * 50, False)\n"
   ]
  },
  {
   "cell_type": "markdown",
   "id": "covered-marking",
   "metadata": {},
   "source": [
    "**Example 4:**\n",
    "\n",
    "Draw a star."
   ]
  },
  {
   "cell_type": "code",
   "execution_count": 23,
   "id": "difficult-malta",
   "metadata": {},
   "outputs": [
    {
     "data": {
      "text/plain": [
       "144.0"
      ]
     },
     "execution_count": 23,
     "metadata": {},
     "output_type": "execute_result"
    }
   ],
   "source": [
    "# angle of a 5 sized star\n",
    "\n",
    "angle = 180 / 5\n",
    "angle = 180 - angle\n",
    "angle"
   ]
  },
  {
   "cell_type": "markdown",
   "id": "universal-inspection",
   "metadata": {},
   "source": [
    "Fixed size star."
   ]
  },
  {
   "cell_type": "code",
   "execution_count": 37,
   "id": "homeless-arthur",
   "metadata": {},
   "outputs": [],
   "source": [
    "def star(t, d, is_screen_reset, color):\n",
    "    \"\"\"\n",
    "    Draws a star with 5 sizes.\n",
    "    Parameters: turtle t, int d, bool is_screen_reset, str color\n",
    "    \"\"\"\n",
    "    \n",
    "    # resetting\n",
    "    if is_screen_reset:\n",
    "        reset()\n",
    "        \n",
    "    # angle\n",
    "    angle = 180 / 5\n",
    "    angle = 180 - angle\n",
    "    \n",
    "    # line color -> pen color\n",
    "    t.color(color)\n",
    "    \n",
    "    # start the filling\n",
    "    t.fillcolor(color)\n",
    "    t.begin_fill()\n",
    "    \n",
    "    for i in range(5):\n",
    "        t.fd(d)\n",
    "        t.lt(angle)\n",
    "    \n",
    "    # end the filling\n",
    "    t.end_fill()\n",
    "    "
   ]
  },
  {
   "cell_type": "code",
   "execution_count": 38,
   "id": "resident-welding",
   "metadata": {},
   "outputs": [],
   "source": [
    "star(t, 300, is_screen_reset=True, color='green')"
   ]
  },
  {
   "cell_type": "code",
   "execution_count": 39,
   "id": "rough-gamma",
   "metadata": {},
   "outputs": [],
   "source": [
    "star(t, 200, is_screen_reset=False, color='orange')"
   ]
  },
  {
   "cell_type": "code",
   "execution_count": 40,
   "id": "careful-secret",
   "metadata": {},
   "outputs": [],
   "source": [
    "star(t, 100, is_screen_reset=False, color='purple')"
   ]
  },
  {
   "cell_type": "markdown",
   "id": "virtual-ocean",
   "metadata": {},
   "source": [
    "Variable size star."
   ]
  },
  {
   "cell_type": "code",
   "execution_count": 42,
   "id": "graphic-crowd",
   "metadata": {},
   "outputs": [],
   "source": [
    "def star(t, d, n, is_screen_reset, color):\n",
    "    \"\"\"\n",
    "    Draws a star with n sizes.\n",
    "    Parameters: turtle t, int d, int n, bool is_screen_reset, str color\n",
    "    \"\"\"\n",
    "    \n",
    "    # resetting\n",
    "    if is_screen_reset:\n",
    "        reset()\n",
    "        \n",
    "    # angle\n",
    "    angle = 180 / n\n",
    "    angle = 180 - angle\n",
    "    \n",
    "    # line color -> pen color\n",
    "    t.color(color)\n",
    "    \n",
    "    # start the filling\n",
    "    t.fillcolor(color)\n",
    "    t.begin_fill()\n",
    "    \n",
    "    for i in range(n):\n",
    "        t.fd(d)\n",
    "        t.lt(angle)\n",
    "    \n",
    "    # end the filling\n",
    "    t.end_fill()\n",
    "    "
   ]
  },
  {
   "cell_type": "code",
   "execution_count": 43,
   "id": "temporal-juice",
   "metadata": {},
   "outputs": [],
   "source": [
    "star(t, 300, 10, is_screen_reset=True, color='red')"
   ]
  },
  {
   "cell_type": "code",
   "execution_count": 44,
   "id": "straight-presentation",
   "metadata": {},
   "outputs": [],
   "source": [
    "star(t, 300, 11, is_screen_reset=True, color='yellow')"
   ]
  },
  {
   "cell_type": "markdown",
   "id": "recorded-diana",
   "metadata": {},
   "source": [
    "Different fill and pen colors."
   ]
  },
  {
   "cell_type": "code",
   "execution_count": 47,
   "id": "present-extreme",
   "metadata": {},
   "outputs": [],
   "source": [
    "def star(t, d, n, is_screen_reset, pen_color, fill_color):\n",
    "    \"\"\"\n",
    "    Draws a star with n sizes.\n",
    "    Parameters: turtle t, int d, int n, bool is_screen_reset, str pen_color, fill_color\n",
    "    \"\"\"\n",
    "    \n",
    "    # resetting\n",
    "    if is_screen_reset:\n",
    "        reset()\n",
    "        \n",
    "    # angle\n",
    "    angle = 180 / n\n",
    "    angle = 180 - angle\n",
    "    \n",
    "    # line color -> pen color\n",
    "    t.color(pen_color)\n",
    "    \n",
    "    # start the filling\n",
    "    t.fillcolor(fill_color)\n",
    "    t.begin_fill()\n",
    "    \n",
    "    for i in range(n):\n",
    "        t.fd(d)\n",
    "        t.lt(angle)\n",
    "    \n",
    "    # end the filling\n",
    "    t.end_fill()\n",
    "    "
   ]
  },
  {
   "cell_type": "code",
   "execution_count": 49,
   "id": "weighted-toyota",
   "metadata": {},
   "outputs": [],
   "source": [
    "star(t, 300, 15, is_screen_reset=True, pen_color='red', fill_color='yellow')"
   ]
  },
  {
   "cell_type": "code",
   "execution_count": 50,
   "id": "adjusted-invalid",
   "metadata": {},
   "outputs": [],
   "source": [
    "# last statement -> before close\n",
    "# restart the kernel after you close the turtle\n",
    "\n",
    "turtle.mainloop()"
   ]
  },
  {
   "cell_type": "code",
   "execution_count": null,
   "id": "limiting-sheriff",
   "metadata": {},
   "outputs": [],
   "source": []
  }
 ],
 "metadata": {
  "kernelspec": {
   "display_name": "Python 3",
   "language": "python",
   "name": "python3"
  },
  "language_info": {
   "codemirror_mode": {
    "name": "ipython",
    "version": 3
   },
   "file_extension": ".py",
   "mimetype": "text/x-python",
   "name": "python",
   "nbconvert_exporter": "python",
   "pygments_lexer": "ipython3",
   "version": "3.8.8"
  }
 },
 "nbformat": 4,
 "nbformat_minor": 5
}
